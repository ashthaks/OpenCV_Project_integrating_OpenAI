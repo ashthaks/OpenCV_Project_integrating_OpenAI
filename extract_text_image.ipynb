{
 "cells": [
  {
   "cell_type": "code",
   "execution_count": null,
   "metadata": {},
   "outputs": [],
   "source": [
    "# Import the necessary modules.\n",
    "import cv2\n",
    "from cv2 import *\n",
    "import random, string\n",
    "import pytesseract\n",
    "import pyttsx3\n",
    "import os\n",
    "import openai"
   ]
  },
  {
   "cell_type": "code",
   "execution_count": null,
   "metadata": {},
   "outputs": [],
   "source": [
    "\n",
    "pytesseract.pytesseract.tesseract_cmd=r\"C:\\Program Files\\Tesseract-OCR\\tesseract.exe\""
   ]
  },
  {
   "cell_type": "code",
   "execution_count": null,
   "metadata": {},
   "outputs": [],
   "source": [
    "def capture_image_from_webcam():\n",
    "\n",
    "    key = cv2. waitKey(1)\n",
    "\n",
    "    # initialize the camera (usually 0 or 1 for built-in webcams)\n",
    "    cap = cv2.VideoCapture(0)\n",
    "    \n",
    "    while True:\n",
    "        try:\n",
    "            check, frame = cap.read()\n",
    "            \n",
    "            #prints true as long as the webcam is running\n",
    "            print(check)\n",
    "\n",
    "            #prints matrix values of each framecd\n",
    "            print(frame)  \n",
    "            cv2.imshow(\"Capturing\", frame)\n",
    "            key = cv2.waitKey(1)\n",
    "            \n",
    "            if key == ord('s'): \n",
    "                # using random.choices() generating random strings\n",
    "                res = ''.join(random.choices(string.ascii_lowercase + string.digits, k=7))\n",
    "                image_name=str(res+'.jpg')\n",
    "\n",
    "                # saving the captured frame\n",
    "                cv2.imwrite(filename=image_name, img=frame)\n",
    "                \n",
    "                cap.release()\n",
    "                cv2.waitKey(1650)\n",
    "                cv2.destroyAllWindows()\n",
    "                break\n",
    "\n",
    "            elif key == ord('q'):\n",
    "                print(\"Turning off camera.\")\n",
    "                cap.release()\n",
    "                print(\"Camera off.\")\n",
    "                print(\"Program ended.\")\n",
    "                cv2.destroyAllWindows()\n",
    "                break\n",
    "        \n",
    "        except(KeyboardInterrupt):\n",
    "            print(\"Turning off camera.\")\n",
    "            cap.release()\n",
    "            print(\"Camera off.\")\n",
    "            print(\"Program ended.\")\n",
    "            cv2.destroyAllWindows()\n",
    "            break\n",
    "    return image_name"
   ]
  },
  {
   "cell_type": "code",
   "execution_count": null,
   "metadata": {},
   "outputs": [],
   "source": [
    "def extract_text(img):\n",
    "    saved_img=cv2.imread(img)\n",
    "\n",
    "    # extracting text from the image using pytesseract\n",
    "    text=pytesseract.image_to_string(img,config ='--psm 6')\n",
    "    print(text)\n",
    "    \n",
    "    return text\n",
    "    "
   ]
  },
  {
   "cell_type": "code",
   "execution_count": null,
   "metadata": {},
   "outputs": [],
   "source": [
    "# converting the extracted text to speech\n",
    "def text_speech(txt):\n",
    "    txt_sp=pyttsx3.init()\n",
    "    txt_sp.say(txt)\n",
    "    txt_sp.runAndWait()"
   ]
  },
  {
   "cell_type": "code",
   "execution_count": null,
   "metadata": {},
   "outputs": [],
   "source": [
    "image_path=capture_image_from_webcam()"
   ]
  },
  {
   "cell_type": "code",
   "execution_count": null,
   "metadata": {},
   "outputs": [],
   "source": [
    "extracted_text=extract_text(image_path)"
   ]
  },
  {
   "cell_type": "code",
   "execution_count": null,
   "metadata": {},
   "outputs": [],
   "source": [
    "text_speech(extracted_text)"
   ]
  },
  {
   "cell_type": "code",
   "execution_count": null,
   "metadata": {},
   "outputs": [],
   "source": [
    "# delete the saved image\n",
    "os.remove(image_path)  "
   ]
  },
  {
   "cell_type": "code",
   "execution_count": null,
   "metadata": {},
   "outputs": [],
   "source": [
    "# open api key saved file in read mode\n",
    "API_KEY= open(\"API_KEY.txt\",'r').read()\n",
    "openai.api_key=API_KEY\n",
    "\n",
    "while True:\n",
    "    #break the loop if the extracted text is null or empty\n",
    "    if extracted_text == '':\n",
    "        break\n",
    "    else:\n",
    "        response= openai.chat.completions.create(\n",
    "            model=\"gpt-3.5-turbo-0613\",\n",
    "            messages=[\n",
    "                {\"role\": \"system\", \"content\": extracted_text},\n",
    "                ]\n",
    "        )\n",
    "        assistant_response = response['choices'][0]['message']['content']\n",
    "        print('ChatGPT : ', assistant_response.strip(\"\\n\").strip())\n"
   ]
  }
 ],
 "metadata": {
  "kernelspec": {
   "display_name": "Python 3",
   "language": "python",
   "name": "python3"
  },
  "language_info": {
   "codemirror_mode": {
    "name": "ipython",
    "version": 3
   },
   "file_extension": ".py",
   "mimetype": "text/x-python",
   "name": "python",
   "nbconvert_exporter": "python",
   "pygments_lexer": "ipython3",
   "version": "3.11.3"
  }
 },
 "nbformat": 4,
 "nbformat_minor": 2
}
